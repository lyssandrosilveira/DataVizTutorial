{
  "nbformat": 4,
  "nbformat_minor": 0,
  "metadata": {
    "colab": {
      "provenance": [],
      "authorship_tag": "ABX9TyOw84cq0j1DfYU62FmzaqxC",
      "include_colab_link": true
    },
    "kernelspec": {
      "name": "python3",
      "display_name": "Python 3"
    },
    "language_info": {
      "name": "python"
    }
  },
  "cells": [
    {
      "cell_type": "markdown",
      "metadata": {
        "id": "view-in-github",
        "colab_type": "text"
      },
      "source": [
        "<a href=\"https://colab.research.google.com/github/lyssandrosilveira/DataVizTutorial/blob/main/kelly.ipynb\" target=\"_parent\"><img src=\"https://colab.research.google.com/assets/colab-badge.svg\" alt=\"Open In Colab\"/></a>"
      ]
    },
    {
      "cell_type": "code",
      "execution_count": null,
      "metadata": {
        "id": "GodqkZivO-d2"
      },
      "outputs": [],
      "source": [
        "# Importar as bibliotecas necessárias\n",
        "import orender\n",
        "\n",
        "# Definir a função que será chamada pelo Orender\n",
        "@orender.code\n",
        "def calcular_kelly(probabilidade, odd, stake):\n",
        "    # Cálculo do Critério Kelly\n",
        "    p = probabilidade / 100\n",
        "    q = 1 - p\n",
        "    b = odd - 1\n",
        "\n",
        "    kelly_fraction = (b * p - q) / b\n",
        "\n",
        "    # Verificação para evitar porcentagem negativa\n",
        "    if kelly_fraction < 0:\n",
        "        kelly_fraction = 0\n",
        "\n",
        "    # Cálculo do valor em reais a ser apostado\n",
        "    valor_apostado = kelly_fraction * stake\n",
        "\n",
        "    # Retornar o resultado\n",
        "    return {\n",
        "        \"porcentagem_stake\": kelly_fraction * 100,\n",
        "        \"valor_apostado\": valor_apostado\n",
        "    }\n",
        "\n",
        "# Executar o código\n",
        "resultado = calcular_kelly(probabilidade, odd, stake)\n",
        "\n",
        "# Exibir o resultado\n",
        "print(\"Porcentagem da stake a ser apostada: {:.2f}%\".format(resultado[\"porcentagem_stake\"]))\n",
        "print(\"Valor em reais a ser apostado: R$ {:.2f}\".format(resultado[\"valor_apostado\"]))\n"
      ]
    }
  ]
}